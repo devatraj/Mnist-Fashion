{
 "cells": [
  {
   "cell_type": "code",
   "execution_count": 1,
   "id": "602daf37",
   "metadata": {},
   "outputs": [
    {
     "name": "stdout",
     "output_type": "stream",
     "text": [
      "Requirement already satisfied: keras-tuner in c:\\users\\devatraj\\anaconda3\\lib\\site-packages (1.3.0)\n",
      "Requirement already satisfied: packaging in c:\\users\\devatraj\\anaconda3\\lib\\site-packages (from keras-tuner) (21.3)\n",
      "Requirement already satisfied: ipython in c:\\users\\devatraj\\anaconda3\\lib\\site-packages (from keras-tuner) (8.2.0)\n",
      "Requirement already satisfied: kt-legacy in c:\\users\\devatraj\\anaconda3\\lib\\site-packages (from keras-tuner) (1.0.4)\n",
      "Requirement already satisfied: tensorflow>=2.0 in c:\\users\\devatraj\\anaconda3\\lib\\site-packages (from keras-tuner) (2.11.0)\n",
      "Requirement already satisfied: requests in c:\\users\\devatraj\\anaconda3\\lib\\site-packages (from keras-tuner) (2.27.1)\n",
      "Requirement already satisfied: tensorflow-intel==2.11.0 in c:\\users\\devatraj\\anaconda3\\lib\\site-packages (from tensorflow>=2.0->keras-tuner) (2.11.0)\n",
      "Requirement already satisfied: grpcio<2.0,>=1.24.3 in c:\\users\\devatraj\\anaconda3\\lib\\site-packages (from tensorflow-intel==2.11.0->tensorflow>=2.0->keras-tuner) (1.42.0)\n",
      "Requirement already satisfied: opt-einsum>=2.3.2 in c:\\users\\devatraj\\anaconda3\\lib\\site-packages (from tensorflow-intel==2.11.0->tensorflow>=2.0->keras-tuner) (3.3.0)\n",
      "Requirement already satisfied: tensorflow-estimator<2.12,>=2.11.0 in c:\\users\\devatraj\\anaconda3\\lib\\site-packages (from tensorflow-intel==2.11.0->tensorflow>=2.0->keras-tuner) (2.11.0)\n",
      "Requirement already satisfied: gast<=0.4.0,>=0.2.1 in c:\\users\\devatraj\\anaconda3\\lib\\site-packages (from tensorflow-intel==2.11.0->tensorflow>=2.0->keras-tuner) (0.4.0)\n",
      "Requirement already satisfied: absl-py>=1.0.0 in c:\\users\\devatraj\\anaconda3\\lib\\site-packages (from tensorflow-intel==2.11.0->tensorflow>=2.0->keras-tuner) (1.4.0)\n",
      "Requirement already satisfied: termcolor>=1.1.0 in c:\\users\\devatraj\\anaconda3\\lib\\site-packages (from tensorflow-intel==2.11.0->tensorflow>=2.0->keras-tuner) (2.2.0)\n",
      "Requirement already satisfied: libclang>=13.0.0 in c:\\users\\devatraj\\anaconda3\\lib\\site-packages (from tensorflow-intel==2.11.0->tensorflow>=2.0->keras-tuner) (15.0.6.1)\n",
      "Requirement already satisfied: google-pasta>=0.1.1 in c:\\users\\devatraj\\anaconda3\\lib\\site-packages (from tensorflow-intel==2.11.0->tensorflow>=2.0->keras-tuner) (0.2.0)\n",
      "Requirement already satisfied: typing-extensions>=3.6.6 in c:\\users\\devatraj\\anaconda3\\lib\\site-packages (from tensorflow-intel==2.11.0->tensorflow>=2.0->keras-tuner) (4.1.1)\n",
      "Requirement already satisfied: protobuf<3.20,>=3.9.2 in c:\\users\\devatraj\\anaconda3\\lib\\site-packages (from tensorflow-intel==2.11.0->tensorflow>=2.0->keras-tuner) (3.19.1)\n",
      "Requirement already satisfied: wrapt>=1.11.0 in c:\\users\\devatraj\\anaconda3\\lib\\site-packages (from tensorflow-intel==2.11.0->tensorflow>=2.0->keras-tuner) (1.12.1)\n",
      "Requirement already satisfied: flatbuffers>=2.0 in c:\\users\\devatraj\\anaconda3\\lib\\site-packages (from tensorflow-intel==2.11.0->tensorflow>=2.0->keras-tuner) (23.3.3)\n",
      "Requirement already satisfied: tensorboard<2.12,>=2.11 in c:\\users\\devatraj\\anaconda3\\lib\\site-packages (from tensorflow-intel==2.11.0->tensorflow>=2.0->keras-tuner) (2.11.2)\n",
      "Requirement already satisfied: setuptools in c:\\users\\devatraj\\anaconda3\\lib\\site-packages (from tensorflow-intel==2.11.0->tensorflow>=2.0->keras-tuner) (61.2.0)\n",
      "Requirement already satisfied: numpy>=1.20 in c:\\users\\devatraj\\anaconda3\\lib\\site-packages (from tensorflow-intel==2.11.0->tensorflow>=2.0->keras-tuner) (1.21.5)\n",
      "Requirement already satisfied: six>=1.12.0 in c:\\users\\devatraj\\anaconda3\\lib\\site-packages (from tensorflow-intel==2.11.0->tensorflow>=2.0->keras-tuner) (1.16.0)\n",
      "Requirement already satisfied: tensorflow-io-gcs-filesystem>=0.23.1 in c:\\users\\devatraj\\anaconda3\\lib\\site-packages (from tensorflow-intel==2.11.0->tensorflow>=2.0->keras-tuner) (0.31.0)\n",
      "Requirement already satisfied: astunparse>=1.6.0 in c:\\users\\devatraj\\anaconda3\\lib\\site-packages (from tensorflow-intel==2.11.0->tensorflow>=2.0->keras-tuner) (1.6.3)\n",
      "Requirement already satisfied: keras<2.12,>=2.11.0 in c:\\users\\devatraj\\anaconda3\\lib\\site-packages (from tensorflow-intel==2.11.0->tensorflow>=2.0->keras-tuner) (2.11.0)\n",
      "Requirement already satisfied: h5py>=2.9.0 in c:\\users\\devatraj\\anaconda3\\lib\\site-packages (from tensorflow-intel==2.11.0->tensorflow>=2.0->keras-tuner) (3.6.0)\n",
      "Requirement already satisfied: wheel<1.0,>=0.23.0 in c:\\users\\devatraj\\anaconda3\\lib\\site-packages (from astunparse>=1.6.0->tensorflow-intel==2.11.0->tensorflow>=2.0->keras-tuner) (0.37.1)\n",
      "Requirement already satisfied: google-auth-oauthlib<0.5,>=0.4.1 in c:\\users\\devatraj\\anaconda3\\lib\\site-packages (from tensorboard<2.12,>=2.11->tensorflow-intel==2.11.0->tensorflow>=2.0->keras-tuner) (0.4.6)\n",
      "Requirement already satisfied: markdown>=2.6.8 in c:\\users\\devatraj\\anaconda3\\lib\\site-packages (from tensorboard<2.12,>=2.11->tensorflow-intel==2.11.0->tensorflow>=2.0->keras-tuner) (3.3.4)\n",
      "Requirement already satisfied: tensorboard-plugin-wit>=1.6.0 in c:\\users\\devatraj\\anaconda3\\lib\\site-packages (from tensorboard<2.12,>=2.11->tensorflow-intel==2.11.0->tensorflow>=2.0->keras-tuner) (1.8.1)\n",
      "Requirement already satisfied: tensorboard-data-server<0.7.0,>=0.6.0 in c:\\users\\devatraj\\anaconda3\\lib\\site-packages (from tensorboard<2.12,>=2.11->tensorflow-intel==2.11.0->tensorflow>=2.0->keras-tuner) (0.6.1)\n",
      "Requirement already satisfied: werkzeug>=1.0.1 in c:\\users\\devatraj\\anaconda3\\lib\\site-packages (from tensorboard<2.12,>=2.11->tensorflow-intel==2.11.0->tensorflow>=2.0->keras-tuner) (2.0.3)\n",
      "Requirement already satisfied: google-auth<3,>=1.6.3 in c:\\users\\devatraj\\anaconda3\\lib\\site-packages (from tensorboard<2.12,>=2.11->tensorflow-intel==2.11.0->tensorflow>=2.0->keras-tuner) (1.33.0)\n",
      "Requirement already satisfied: pyasn1-modules>=0.2.1 in c:\\users\\devatraj\\anaconda3\\lib\\site-packages (from google-auth<3,>=1.6.3->tensorboard<2.12,>=2.11->tensorflow-intel==2.11.0->tensorflow>=2.0->keras-tuner) (0.2.8)\n",
      "Requirement already satisfied: rsa<5,>=3.1.4 in c:\\users\\devatraj\\anaconda3\\lib\\site-packages (from google-auth<3,>=1.6.3->tensorboard<2.12,>=2.11->tensorflow-intel==2.11.0->tensorflow>=2.0->keras-tuner) (4.7.2)\n",
      "Requirement already satisfied: cachetools<5.0,>=2.0.0 in c:\\users\\devatraj\\anaconda3\\lib\\site-packages (from google-auth<3,>=1.6.3->tensorboard<2.12,>=2.11->tensorflow-intel==2.11.0->tensorflow>=2.0->keras-tuner) (4.2.2)\n",
      "Requirement already satisfied: requests-oauthlib>=0.7.0 in c:\\users\\devatraj\\anaconda3\\lib\\site-packages (from google-auth-oauthlib<0.5,>=0.4.1->tensorboard<2.12,>=2.11->tensorflow-intel==2.11.0->tensorflow>=2.0->keras-tuner) (1.3.1)\n",
      "Requirement already satisfied: pyasn1<0.5.0,>=0.4.6 in c:\\users\\devatraj\\anaconda3\\lib\\site-packages (from pyasn1-modules>=0.2.1->google-auth<3,>=1.6.3->tensorboard<2.12,>=2.11->tensorflow-intel==2.11.0->tensorflow>=2.0->keras-tuner) (0.4.8)\n",
      "Requirement already satisfied: idna<4,>=2.5 in c:\\users\\devatraj\\anaconda3\\lib\\site-packages (from requests->keras-tuner) (3.3)\n",
      "Requirement already satisfied: urllib3<1.27,>=1.21.1 in c:\\users\\devatraj\\anaconda3\\lib\\site-packages (from requests->keras-tuner) (1.26.9)\n",
      "Requirement already satisfied: charset-normalizer~=2.0.0 in c:\\users\\devatraj\\anaconda3\\lib\\site-packages (from requests->keras-tuner) (2.0.4)\n",
      "Requirement already satisfied: certifi>=2017.4.17 in c:\\users\\devatraj\\anaconda3\\lib\\site-packages (from requests->keras-tuner) (2021.10.8)\n",
      "Requirement already satisfied: oauthlib>=3.0.0 in c:\\users\\devatraj\\anaconda3\\lib\\site-packages (from requests-oauthlib>=0.7.0->google-auth-oauthlib<0.5,>=0.4.1->tensorboard<2.12,>=2.11->tensorflow-intel==2.11.0->tensorflow>=2.0->keras-tuner) (3.2.2)\n",
      "Requirement already satisfied: jedi>=0.16 in c:\\users\\devatraj\\anaconda3\\lib\\site-packages (from ipython->keras-tuner) (0.18.1)\n",
      "Requirement already satisfied: traitlets>=5 in c:\\users\\devatraj\\anaconda3\\lib\\site-packages (from ipython->keras-tuner) (5.1.1)\n",
      "Requirement already satisfied: matplotlib-inline in c:\\users\\devatraj\\anaconda3\\lib\\site-packages (from ipython->keras-tuner) (0.1.2)\n",
      "Requirement already satisfied: backcall in c:\\users\\devatraj\\anaconda3\\lib\\site-packages (from ipython->keras-tuner) (0.2.0)\n",
      "Requirement already satisfied: pickleshare in c:\\users\\devatraj\\anaconda3\\lib\\site-packages (from ipython->keras-tuner) (0.7.5)\n",
      "Requirement already satisfied: decorator in c:\\users\\devatraj\\anaconda3\\lib\\site-packages (from ipython->keras-tuner) (5.1.1)\n",
      "Requirement already satisfied: pygments>=2.4.0 in c:\\users\\devatraj\\anaconda3\\lib\\site-packages (from ipython->keras-tuner) (2.11.2)\n",
      "Requirement already satisfied: stack-data in c:\\users\\devatraj\\anaconda3\\lib\\site-packages (from ipython->keras-tuner) (0.2.0)\n",
      "Requirement already satisfied: colorama in c:\\users\\devatraj\\anaconda3\\lib\\site-packages (from ipython->keras-tuner) (0.4.4)\n",
      "Requirement already satisfied: prompt-toolkit!=3.0.0,!=3.0.1,<3.1.0,>=2.0.0 in c:\\users\\devatraj\\anaconda3\\lib\\site-packages (from ipython->keras-tuner) (3.0.20)\n",
      "Requirement already satisfied: parso<0.9.0,>=0.8.0 in c:\\users\\devatraj\\anaconda3\\lib\\site-packages (from jedi>=0.16->ipython->keras-tuner) (0.8.3)\n",
      "Requirement already satisfied: wcwidth in c:\\users\\devatraj\\anaconda3\\lib\\site-packages (from prompt-toolkit!=3.0.0,!=3.0.1,<3.1.0,>=2.0.0->ipython->keras-tuner) (0.2.5)\n",
      "Requirement already satisfied: pyparsing!=3.0.5,>=2.0.2 in c:\\users\\devatraj\\anaconda3\\lib\\site-packages (from packaging->keras-tuner) (3.0.4)\n",
      "Requirement already satisfied: executing in c:\\users\\devatraj\\anaconda3\\lib\\site-packages (from stack-data->ipython->keras-tuner) (0.8.3)\n",
      "Requirement already satisfied: pure-eval in c:\\users\\devatraj\\anaconda3\\lib\\site-packages (from stack-data->ipython->keras-tuner) (0.2.2)\n",
      "Requirement already satisfied: asttokens in c:\\users\\devatraj\\anaconda3\\lib\\site-packages (from stack-data->ipython->keras-tuner) (2.0.5)\n"
     ]
    }
   ],
   "source": [
    "!pip install keras-tuner"
   ]
  },
  {
   "cell_type": "code",
   "execution_count": 1,
   "id": "b4d7e5db",
   "metadata": {},
   "outputs": [],
   "source": [
    "import numpy as np\n",
    "import tensorflow as tf\n",
    "from tensorflow import keras"
   ]
  },
  {
   "cell_type": "code",
   "execution_count": 2,
   "id": "c70714e9",
   "metadata": {},
   "outputs": [],
   "source": [
    "fashion_mnist=keras.datasets.fashion_mnist"
   ]
  },
  {
   "cell_type": "code",
   "execution_count": 3,
   "id": "05f0d508",
   "metadata": {},
   "outputs": [],
   "source": [
    "(train_images,train_labels),(test_images,test_labels)=fashion_mnist.load_data()"
   ]
  },
  {
   "cell_type": "code",
   "execution_count": 4,
   "id": "b24a17cb",
   "metadata": {},
   "outputs": [],
   "source": [
    "train_images=train_images/255.0\n",
    "test_images=test_images/255.0"
   ]
  },
  {
   "cell_type": "code",
   "execution_count": 5,
   "id": "baca2fd0",
   "metadata": {},
   "outputs": [
    {
     "data": {
      "text/plain": [
       "(28, 28)"
      ]
     },
     "execution_count": 5,
     "metadata": {},
     "output_type": "execute_result"
    }
   ],
   "source": [
    "train_images[0].shape"
   ]
  },
  {
   "cell_type": "code",
   "execution_count": 6,
   "id": "dee3bda6",
   "metadata": {},
   "outputs": [],
   "source": [
    "train_images=train_images.reshape(len(train_images),28,28,1)\n",
    "test_images=test_images.reshape(len(test_images),28,28,1)"
   ]
  },
  {
   "cell_type": "code",
   "execution_count": 7,
   "id": "bc37dfb1",
   "metadata": {},
   "outputs": [],
   "source": [
    "def build_model(hp):\n",
    "    model=keras.Sequential([\n",
    "        keras.layers.Conv2D(\n",
    "            filters=hp.Int('fil_1',min_value=32,max_value=128,step=16),\n",
    "            kernel_size=hp.Choice('conv_1_kernel',values=[3,5]),\n",
    "            activation='relu',\n",
    "            input_shape=(28,28,1)\n",
    "        ),\n",
    "        keras.layers.Conv2D(\n",
    "            filters=hp.Int('fil_2',min_value=32,max_value=128,step=16),\n",
    "            kernel_size=hp.Choice('kern_2',values=[3,5]),\n",
    "            activation='relu'\n",
    "        ),\n",
    "        keras.layers.Flatten(),\n",
    "        keras.layers.Dense(\n",
    "            units=hp.Int('dense_unit_1',min_value=32,max_value=128,step=16),\n",
    "            activation='relu'\n",
    "        ),\n",
    "        keras.layers.Dense(10,activation='softmax')\n",
    "    ])\n",
    "    model.compile(optimizer=keras.optimizers.Adam(hp.Choice('learning_rate',values=[1e-2,1e-3])),\n",
    "                  loss='sparse_categorical_crossentropy',\n",
    "                  metrics=['accuracy'])\n",
    "    return model"
   ]
  },
  {
   "cell_type": "code",
   "execution_count": 8,
   "id": "c02a36bf",
   "metadata": {},
   "outputs": [],
   "source": [
    "from keras_tuner import RandomSearch\n",
    "from keras_tuner.engine.hyperparameters import HyperParameters"
   ]
  },
  {
   "cell_type": "code",
   "execution_count": 9,
   "id": "ccd20a06",
   "metadata": {},
   "outputs": [
    {
     "name": "stdout",
     "output_type": "stream",
     "text": [
      "INFO:tensorflow:Reloading Tuner from output4\\MnistFashion\\tuner0.json\n"
     ]
    }
   ],
   "source": [
    "tuner_search=RandomSearch(build_model,objective='val_accuracy',max_trials=5,directory='output4',project_name=\"MnistFashion\")"
   ]
  },
  {
   "cell_type": "code",
   "execution_count": 10,
   "id": "30ca6a64",
   "metadata": {},
   "outputs": [
    {
     "name": "stdout",
     "output_type": "stream",
     "text": [
      "Trial 5 Complete [00h 03m 44s]\n",
      "val_accuracy: 0.0925000011920929\n",
      "\n",
      "Best val_accuracy So Far: 0.8931666612625122\n",
      "Total elapsed time: 00h 14m 49s\n",
      "INFO:tensorflow:Oracle triggered exit\n"
     ]
    }
   ],
   "source": [
    "tuner_search.search(train_images,train_labels,epochs=1,validation_split=0.1)"
   ]
  },
  {
   "cell_type": "code",
   "execution_count": 11,
   "id": "432eec74",
   "metadata": {},
   "outputs": [
    {
     "name": "stdout",
     "output_type": "stream",
     "text": [
      "Model: \"sequential\"\n",
      "_________________________________________________________________\n",
      " Layer (type)                Output Shape              Param #   \n",
      "=================================================================\n",
      " conv2d (Conv2D)             (None, 24, 24, 32)        832       \n",
      "                                                                 \n",
      " conv2d_1 (Conv2D)           (None, 22, 22, 80)        23120     \n",
      "                                                                 \n",
      " flatten (Flatten)           (None, 38720)             0         \n",
      "                                                                 \n",
      " dense (Dense)               (None, 64)                2478144   \n",
      "                                                                 \n",
      " dense_1 (Dense)             (None, 10)                650       \n",
      "                                                                 \n",
      "=================================================================\n",
      "Total params: 2,502,746\n",
      "Trainable params: 2,502,746\n",
      "Non-trainable params: 0\n",
      "_________________________________________________________________\n"
     ]
    }
   ],
   "source": [
    "model=tuner_search.get_best_models(num_models=1)[0]\n",
    "model.summary()"
   ]
  },
  {
   "cell_type": "code",
   "execution_count": 13,
   "id": "18bdaa86",
   "metadata": {},
   "outputs": [
    {
     "name": "stdout",
     "output_type": "stream",
     "text": [
      "Epoch 2/3\n",
      "1688/1688 [==============================] - 163s 96ms/step - loss: 0.2510 - accuracy: 0.9077 - val_loss: 0.2502 - val_accuracy: 0.9040\n",
      "Epoch 3/3\n",
      "1688/1688 [==============================] - 166s 98ms/step - loss: 0.1937 - accuracy: 0.9272 - val_loss: 0.2462 - val_accuracy: 0.9137\n"
     ]
    },
    {
     "data": {
      "text/plain": [
       "<keras.callbacks.History at 0x2091afe8640>"
      ]
     },
     "execution_count": 13,
     "metadata": {},
     "output_type": "execute_result"
    }
   ],
   "source": [
    "model.fit(train_images,train_labels,epochs=3,validation_split=0.1,initial_epoch=1)"
   ]
  },
  {
   "cell_type": "markdown",
   "id": "74b3fb19",
   "metadata": {},
   "source": [
    "acc=0.9137"
   ]
  },
  {
   "cell_type": "code",
   "execution_count": null,
   "id": "1b0708ec",
   "metadata": {},
   "outputs": [],
   "source": []
  }
 ],
 "metadata": {
  "kernelspec": {
   "display_name": "Python 3 (ipykernel)",
   "language": "python",
   "name": "python3"
  },
  "language_info": {
   "codemirror_mode": {
    "name": "ipython",
    "version": 3
   },
   "file_extension": ".py",
   "mimetype": "text/x-python",
   "name": "python",
   "nbconvert_exporter": "python",
   "pygments_lexer": "ipython3",
   "version": "3.9.12"
  }
 },
 "nbformat": 4,
 "nbformat_minor": 5
}
